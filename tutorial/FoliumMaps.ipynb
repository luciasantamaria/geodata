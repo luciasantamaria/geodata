{
 "cells": [
  {
   "cell_type": "markdown",
   "metadata": {},
   "source": [
    "# Easy maps with folium#"
   ]
  },
  {
   "cell_type": "markdown",
   "metadata": {},
   "source": [
    "Folium builds on the data wrangling strengths of the Python ecosystem and the mapping strengths of the Leaflet.js library. It's essentially a Python wrapper around the excellent Leaflet.js mapping library. Manipulate your data in Python, then visualize it in on a Leaflet map via Folium.\n",
    "\n",
    "The library has a number of built-in tilesets from OpenStreetMap, MapQuest Open, MapQuest Open Aerial, Mapbox, and Stamen, and supports custom tilesets with Mapbox or Cloudmade API keys. Folium supports both GeoJSON and TopoJSON overlays, as well as the binding of data to those overlays to create choropleth maps with color-brewer color schemes."
   ]
  },
  {
   "cell_type": "code",
   "execution_count": 1,
   "metadata": {
    "collapsed": true
   },
   "outputs": [],
   "source": [
    "import folium\n",
    "from IPython.display import HTML\n",
    "import json\n",
    "import pandas as pd\n",
    "from shapely.geometry import Polygon\n",
    "from math import cos, pi"
   ]
  },
  {
   "cell_type": "code",
   "execution_count": 2,
   "metadata": {
    "collapsed": false
   },
   "outputs": [
    {
     "data": {
      "text/plain": [
       "'0.1.3'"
      ]
     },
     "execution_count": 2,
     "metadata": {},
     "output_type": "execute_result"
    }
   ],
   "source": [
    "folium.__version__"
   ]
  },
  {
   "cell_type": "code",
   "execution_count": 3,
   "metadata": {
    "collapsed": true
   },
   "outputs": [],
   "source": [
    "# Utility function to embed maps directly in the notebook\n",
    "def inline_map(m, width=1200, height=500, input_html=False):\n",
    "    \"\"\"\n",
    "    Embeds the HTML source of the map directly into the IPython notebook.\n",
    "    \n",
    "    This method will not work if the map depends on any files (json data). Also this uses\n",
    "    the HTML5 srcdoc attribute, which may not be supported in all browsers.\n",
    "    \"\"\"\n",
    "    if not input_html:\n",
    "        m._build_map()\n",
    "        srcdoc = m.HTML.replace('\"', '&quot;')\n",
    "    else:\n",
    "        srcdoc = m.replace('\"', '&quot;')\n",
    "    return HTML('<iframe srcdoc=\"{}\" '\n",
    "                 'style=\"width: {}px; height: {}px; '\n",
    "                 'border: none\"></iframe>'.format(srcdoc, width, height))"
   ]
  },
  {
   "cell_type": "markdown",
   "metadata": {},
   "source": [
    "### Displaying a map###"
   ]
  },
  {
   "cell_type": "code",
   "execution_count": 4,
   "metadata": {
    "collapsed": false
   },
   "outputs": [],
   "source": [
    "# Initialize a folium map simply by specifying the lat/lon to be centered in Berlin\n",
    "# Berlin coordinates: lat=52.51 / lon=13.42\n"
   ]
  },
  {
   "cell_type": "markdown",
   "metadata": {},
   "source": [
    "Available tiles for map:\n",
    "- \"OpenStreetMap\"\n",
    "- \"Mapbox Bright\" (Limited levels of zoom for free tiles)\n",
    "- \"Stamen Terrain\"\n",
    "- \"Cloudmade\" (Must pass API key)\n",
    "- \"Mapbox\" (Must pass API key)\n",
    "- \"MapQuest\" (Must pass API key)"
   ]
  },
  {
   "cell_type": "code",
   "execution_count": 5,
   "metadata": {
    "collapsed": false
   },
   "outputs": [],
   "source": [
    "# Test other tile styles\n"
   ]
  },
  {
   "cell_type": "markdown",
   "metadata": {
    "collapsed": true
   },
   "source": [
    "### Markers###"
   ]
  },
  {
   "cell_type": "markdown",
   "metadata": {},
   "source": [
    "Folium allows to place markers on the map easily. To find out the lat/lon of a given location, a (forward) geocoder is needed. One can use Google Maps, or the following utility function to enable lat/lon popovers:"
   ]
  },
  {
   "cell_type": "code",
   "execution_count": 6,
   "metadata": {
    "collapsed": false
   },
   "outputs": [],
   "source": [
    "# Use function lat_lng_popover() on a map and learn how to extract coordinates of places\n"
   ]
  },
  {
   "cell_type": "code",
   "execution_count": 7,
   "metadata": {
    "collapsed": false
   },
   "outputs": [],
   "source": [
    "# Create a map with markers at the following locations: \n",
    "# - Augsburger Str. Ubahn (simple_marker)\n",
    "# - DSR office\n",
    "# - Wittenbergplatz\n",
    "# - A park nearby (circle_marker)\n",
    "# Experiment with markers' colors, icons, sizes (for circle_marker), etc\n"
   ]
  },
  {
   "cell_type": "markdown",
   "metadata": {},
   "source": [
    "### Exercises\n",
    "\n",
    "1. Using the lat-lon popover above, find out the approximate lat/lon of Rio de Janeiro. Compare the coordinates with other Internet sources. \n",
    "2. Display a map centered on Rio de Janeiro and with a zoom level such that the full extension of Brazil is displayed.\n",
    "3. Display a map centered on Rio de Janeiro at an appropriate zoom to resolve the city and place a marker on the Rodrigo de Freitas Lagoon."
   ]
  },
  {
   "cell_type": "markdown",
   "metadata": {},
   "source": [
    "### GeoJSON Overlays###"
   ]
  },
  {
   "cell_type": "markdown",
   "metadata": {},
   "source": [
    "GeoJSON is an open standard format for encoding collections of simple geographical features along with their non-spatial attributes using JavaScript Object Notation. [Wikipedia GeoJSON](https://en.wikipedia.org/wiki/GeoJSON)"
   ]
  },
  {
   "cell_type": "code",
   "execution_count": 8,
   "metadata": {
    "collapsed": false
   },
   "outputs": [],
   "source": [
    "# The geographical features are contained in a geojson file\n",
    "# Source: https://github.com/m-hoerz/berlin-shapes\n",
    "geo_path = r'berliner-bezirke.geojson'\n",
    "\n",
    "# Display the data from the geojson file above on top of a map centered in Berlin. \n",
    "# Make sure the zoom level is appropriate to display the whole geojson\n"
   ]
  },
  {
   "cell_type": "markdown",
   "metadata": {},
   "source": [
    "#### Binding data to GeoJSON Overlays"
   ]
  },
  {
   "cell_type": "markdown",
   "metadata": {},
   "source": [
    "Visualizing geometries on a map is interesting, but even more so is to be able to show relations and magnitudes on top of it. Folium allows the binding of Pandas dataframes on GeoJSON geometries"
   ]
  },
  {
   "cell_type": "code",
   "execution_count": 9,
   "metadata": {
    "collapsed": false
   },
   "outputs": [
    {
     "data": {
      "text/plain": [
       "'berliner-bezirke.geojson'"
      ]
     },
     "execution_count": 9,
     "metadata": {},
     "output_type": "execute_result"
    }
   ],
   "source": [
    "geo_path"
   ]
  },
  {
   "cell_type": "code",
   "execution_count": 10,
   "metadata": {
    "collapsed": false
   },
   "outputs": [],
   "source": [
    "# GeoJSON data loads like any normal JSON data\n",
    "geo_json = open(geo_path).read()\n",
    "geo_data = json.loads(geo_json)"
   ]
  },
  {
   "cell_type": "code",
   "execution_count": 11,
   "metadata": {
    "collapsed": false
   },
   "outputs": [
    {
     "data": {
      "text/plain": [
       "[u'type', u'features']"
      ]
     },
     "execution_count": 11,
     "metadata": {},
     "output_type": "execute_result"
    }
   ],
   "source": [
    "geo_data.keys()"
   ]
  },
  {
   "cell_type": "code",
   "execution_count": 12,
   "metadata": {
    "collapsed": false
   },
   "outputs": [
    {
     "data": {
      "text/plain": [
       "[u'geometry', u'type', u'id', u'properties']"
      ]
     },
     "execution_count": 12,
     "metadata": {},
     "output_type": "execute_result"
    }
   ],
   "source": [
    "geo_data['features'][0].keys()"
   ]
  },
  {
   "cell_type": "code",
   "execution_count": 13,
   "metadata": {
    "collapsed": false
   },
   "outputs": [
    {
     "data": {
      "text/plain": [
       "<shapely.geometry.polygon.Polygon at 0x10ee0d890>"
      ]
     },
     "execution_count": 13,
     "metadata": {},
     "output_type": "execute_result"
    }
   ],
   "source": [
    "# The geometry is described by its type (Polygon) and coordinates\n",
    "Polygon(geo_data['features'][0]['geometry']['coordinates'][0])"
   ]
  },
  {
   "cell_type": "code",
   "execution_count": 14,
   "metadata": {
    "collapsed": false
   },
   "outputs": [
    {
     "data": {
      "text/plain": [
       "u'Mitte'"
      ]
     },
     "execution_count": 14,
     "metadata": {},
     "output_type": "execute_result"
    }
   ],
   "source": [
    "# The boroughs' names are stored under properties/Name\n",
    "geo_data['features'][0]['properties']['Name']"
   ]
  },
  {
   "cell_type": "code",
   "execution_count": 15,
   "metadata": {
    "collapsed": false
   },
   "outputs": [
    {
     "data": {
      "text/plain": [
       "[u'Mitte',\n",
       " u'Friedrichshain-Kreuzberg',\n",
       " u'Pankow',\n",
       " u'Charlottenburg-Wilmersdorf',\n",
       " u'Spandau',\n",
       " u'Steglitz-Zehlendorf',\n",
       " u'Tempelhof-Sch\\xf6neberg',\n",
       " u'Neuk\\xf6lln',\n",
       " u'Treptow-K\\xf6penick',\n",
       " u'Marzahn-Hellersdorf',\n",
       " u'Lichtenberg',\n",
       " u'Reinickendorf']"
      ]
     },
     "execution_count": 15,
     "metadata": {},
     "output_type": "execute_result"
    }
   ],
   "source": [
    "# All boroughs' names\n",
    "[gd['properties']['Name'] for gd in geo_data['features']]"
   ]
  },
  {
   "cell_type": "code",
   "execution_count": 16,
   "metadata": {
    "collapsed": false
   },
   "outputs": [],
   "source": [
    "pd.DataFrame.from_csv?"
   ]
  },
  {
   "cell_type": "code",
   "execution_count": 17,
   "metadata": {
    "collapsed": false
   },
   "outputs": [],
   "source": [
    "# Let's bind demographic data contained in a csv file. \n",
    "# The binding is made via the a common data column among the GeoJSON and the csv file\n",
    "\n",
    "# Load data into dataframe, skip file header on initialization\n"
   ]
  },
  {
   "cell_type": "code",
   "execution_count": 18,
   "metadata": {
    "collapsed": true
   },
   "outputs": [],
   "source": [
    "# Create a new data column: population in thousands for simpler understanding and data viz\n"
   ]
  },
  {
   "cell_type": "code",
   "execution_count": 19,
   "metadata": {
    "collapsed": false
   },
   "outputs": [
    {
     "name": "stdout",
     "output_type": "stream",
     "text": [
      "Object `map_osm.geo_json` not found.\n"
     ]
    }
   ],
   "source": [
    "# We'll use the appropriate options of the geo_json function to produce the final map\n",
    "map_osm.geo_json?"
   ]
  },
  {
   "cell_type": "code",
   "execution_count": 20,
   "metadata": {
    "collapsed": false
   },
   "outputs": [],
   "source": [
    "# Display map binding geo_json and dataframe data -- using columns and key_on parameters\n",
    "# This produces a choropleth map = Choro (Area/Region) + Pleth (quantity)\n",
    "# Pay attention to the parameter threshold_scale, and adapt it to your particular data\n"
   ]
  },
  {
   "cell_type": "markdown",
   "metadata": {},
   "source": [
    "### Exercises\n",
    "\n",
    "1. Produce a similar map to the one above, but binding the percentage of foreigners per neighborhood in Berlin.\n",
    "2. Produce a similar map to the one above, but binding the population per neighborhood in Berlin.\n"
   ]
  },
  {
   "cell_type": "code",
   "execution_count": null,
   "metadata": {
    "collapsed": true
   },
   "outputs": [],
   "source": []
  }
 ],
 "metadata": {
  "kernelspec": {
   "display_name": "Python 2",
   "language": "python",
   "name": "python2"
  },
  "language_info": {
   "codemirror_mode": {
    "name": "ipython",
    "version": 2
   },
   "file_extension": ".py",
   "mimetype": "text/x-python",
   "name": "python",
   "nbconvert_exporter": "python",
   "pygments_lexer": "ipython2",
   "version": "2.7.11"
  }
 },
 "nbformat": 4,
 "nbformat_minor": 0
}
