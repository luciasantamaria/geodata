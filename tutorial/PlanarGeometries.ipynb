{
 "cells": [
  {
   "cell_type": "markdown",
   "metadata": {},
   "source": [
    "# Planar Geometries"
   ]
  },
  {
   "cell_type": "markdown",
   "metadata": {},
   "source": [
    "Shapely is a Python package for manipulation and analysis of planar geometric objects. It is based on the widely deployed GEOS (the engine of PostGIS) and JTS (from which GEOS is ported) libraries. Shapely is not concerned with data formats or coordinate systems, but can be integrated with packages that are."
   ]
  },
  {
   "cell_type": "markdown",
   "metadata": {},
   "source": [
    "The fundamental types of geometric objects implemented by Shapely are points, curves, and surfaces."
   ]
  },
  {
   "cell_type": "code",
   "execution_count": 1,
   "metadata": {
    "collapsed": false
   },
   "outputs": [],
   "source": [
    "from shapely.geometry import Point, LineString, LinearRing, Polygon, MultiPoint, MultiLineString, MultiPolygon, GeometryCollection"
   ]
  },
  {
   "cell_type": "markdown",
   "metadata": {},
   "source": [
    "## Geometric objects"
   ]
  },
  {
   "cell_type": "markdown",
   "metadata": {},
   "source": [
    "### Points"
   ]
  },
  {
   "cell_type": "code",
   "execution_count": 2,
   "metadata": {
    "collapsed": false
   },
   "outputs": [
    {
     "data": {
      "image/svg+xml": [
       "<svg xmlns=\"http://www.w3.org/2000/svg\" xmlns:xlink=\"http://www.w3.org/1999/xlink\" width=\"100.0\" height=\"100.0\" viewBox=\"-1.0 -1.0 2.0 2.0\" preserveAspectRatio=\"xMinYMin meet\"><g transform=\"matrix(1,0,0,-1,0,0.0)\"><circle cx=\"0.0\" cy=\"0.0\" r=\"0.06\" stroke=\"#555555\" stroke-width=\"0.02\" fill=\"#66cc99\" opacity=\"0.6\" /></g></svg>"
      ],
      "text/plain": [
       "<shapely.geometry.point.Point at 0x103d98ef0>"
      ]
     },
     "execution_count": 2,
     "metadata": {},
     "output_type": "execute_result"
    }
   ],
   "source": [
    "# A point is a feature of dimension zero. It has zero length and zero area\n",
    "# A point is instantiated via its coordinates -- (x,y) for 2D, (x,y,z) for 3D, (x,y,z,t) for 4D\n",
    "p = Point(0, 0)\n",
    "p"
   ]
  },
  {
   "cell_type": "code",
   "execution_count": 3,
   "metadata": {
    "collapsed": false
   },
   "outputs": [],
   "source": [
    "# Find out the area and length of a point\n",
    "# Find out how to access its coordinates\n"
   ]
  },
  {
   "cell_type": "code",
   "execution_count": 4,
   "metadata": {
    "collapsed": false
   },
   "outputs": [],
   "source": [
    "# There are several ways to represent a geometry\n",
    "# WKT: https://en.wikipedia.org/wiki/Well-known_text\n",
    "# WKB: https://mariadb.com/kb/en/mariadb/well-known-binary-wkb-format/\n",
    "# Familiarize yourself with them\n"
   ]
  },
  {
   "cell_type": "code",
   "execution_count": 5,
   "metadata": {
    "collapsed": false
   },
   "outputs": [
    {
     "data": {
      "image/svg+xml": [
       "<svg xmlns=\"http://www.w3.org/2000/svg\" xmlns:xlink=\"http://www.w3.org/1999/xlink\" width=\"100.0\" height=\"100.0\" viewBox=\"-0.04 -0.04 1.08 1.08\" preserveAspectRatio=\"xMinYMin meet\"><g transform=\"matrix(1,0,0,-1,0,1.0)\"><g><circle cx=\"0.0\" cy=\"0.0\" r=\"0.0324\" stroke=\"#555555\" stroke-width=\"0.0108\" fill=\"#66cc99\" opacity=\"0.6\" /><circle cx=\"1.0\" cy=\"0.0\" r=\"0.0324\" stroke=\"#555555\" stroke-width=\"0.0108\" fill=\"#66cc99\" opacity=\"0.6\" /><circle cx=\"1.0\" cy=\"1.0\" r=\"0.0324\" stroke=\"#555555\" stroke-width=\"0.0108\" fill=\"#66cc99\" opacity=\"0.6\" /></g></g></svg>"
      ],
      "text/plain": [
       "<shapely.geometry.multipoint.MultiPoint at 0x10497bcc0>"
      ]
     },
     "execution_count": 5,
     "metadata": {},
     "output_type": "execute_result"
    }
   ],
   "source": [
    "# A Multipoint is a collection of Points. It's instantiated with a list of points\n",
    "p2 = Point(1, 0)\n",
    "p3 = Point(1, 1)\n",
    "mp = MultiPoint([p, p2, p3])\n",
    "mp"
   ]
  },
  {
   "cell_type": "code",
   "execution_count": 6,
   "metadata": {
    "collapsed": false
   },
   "outputs": [],
   "source": [
    "# The convex hull of a set X of points is the smallest convex set that contains X\n",
    "# Imagine an elastic band stretched around the geometry: that's a convex hull, more or less\n",
    "# Explore the convex hull of the geometries above\n"
   ]
  },
  {
   "cell_type": "code",
   "execution_count": 7,
   "metadata": {
    "collapsed": false
   },
   "outputs": [],
   "source": [
    "# The envelope is the point or smallest rectangular polygon (with sides parallel to the coordinate axes) \n",
    "# that contains the geometry\n",
    "# Explore the envelope of the geometries above\n"
   ]
  },
  {
   "cell_type": "code",
   "execution_count": 8,
   "metadata": {
    "collapsed": false
   },
   "outputs": [],
   "source": [
    "# The bounding box (property \"bounds\") is a (minx, miny, maxx, maxy) tuple\n",
    "# This tuple coincides with the coordinates of the envelope polygon\n",
    "# Explore the bounding box of the geometries above\n"
   ]
  },
  {
   "cell_type": "code",
   "execution_count": 9,
   "metadata": {
    "collapsed": false
   },
   "outputs": [],
   "source": [
    "# A buffer is a geometry with an envelope at a given distance from the object's envelope\n",
    "# Create buffers of various sizes on the geometries above\n"
   ]
  },
  {
   "cell_type": "markdown",
   "metadata": {},
   "source": [
    "### Curves"
   ]
  },
  {
   "cell_type": "code",
   "execution_count": 10,
   "metadata": {
    "collapsed": false
   },
   "outputs": [
    {
     "data": {
      "image/svg+xml": [
       "<svg xmlns=\"http://www.w3.org/2000/svg\" xmlns:xlink=\"http://www.w3.org/1999/xlink\" width=\"100.0\" height=\"100.0\" viewBox=\"-0.08 -0.08 2.16 2.16\" preserveAspectRatio=\"xMinYMin meet\"><g transform=\"matrix(1,0,0,-1,0,2.0)\"><polyline fill=\"none\" stroke=\"#66cc99\" stroke-width=\"0.0432\" points=\"0.0,0.0 1.0,1.0 1.0,2.0 2.0,2.0\" opacity=\"0.8\" /></g></svg>"
      ],
      "text/plain": [
       "<shapely.geometry.linestring.LineString at 0x10497bd68>"
      ]
     },
     "execution_count": 10,
     "metadata": {},
     "output_type": "execute_result"
    }
   ],
   "source": [
    "# A linestring is a feature of dimension one comprising one or more line segments\n",
    "# It has non-zero length and zero area. Unlike a LinearRing, a LineString is not closed\n",
    "# It's instantiated with a list of 2D or 3D coordinate tuples\n",
    "ls = LineString([[0, 0], [1, 1], [1, 2], [2, 2]])\n",
    "ls"
   ]
  },
  {
   "cell_type": "code",
   "execution_count": 11,
   "metadata": {
    "collapsed": false
   },
   "outputs": [],
   "source": [
    "# The length of a LineString is the sum of lengths of its segments\n",
    "# Check that\n"
   ]
  },
  {
   "cell_type": "code",
   "execution_count": 12,
   "metadata": {
    "collapsed": false
   },
   "outputs": [],
   "source": [
    "# A buffer around a LineString is like a thick line\n",
    "# Visualize that\n"
   ]
  },
  {
   "cell_type": "code",
   "execution_count": 13,
   "metadata": {
    "collapsed": false
   },
   "outputs": [],
   "source": [
    "# A LineString can be open or closed. A closed LineString starts and ends at the same coordinate\n",
    "# Is this linestring closed?\n"
   ]
  },
  {
   "cell_type": "code",
   "execution_count": 14,
   "metadata": {
    "collapsed": false
   },
   "outputs": [
    {
     "data": {
      "image/svg+xml": [
       "<svg xmlns=\"http://www.w3.org/2000/svg\" xmlns:xlink=\"http://www.w3.org/1999/xlink\" width=\"100.0\" height=\"100.0\" viewBox=\"-0.08 -0.08 2.16 2.16\" preserveAspectRatio=\"xMinYMin meet\"><g transform=\"matrix(1,0,0,-1,0,2.0)\"><polyline fill=\"none\" stroke=\"#66cc99\" stroke-width=\"0.0432\" points=\"0.0,0.0 1.0,1.0 1.0,2.0 2.0,2.0 2.0,0.0 0.0,0.0\" opacity=\"0.8\" /></g></svg>"
      ],
      "text/plain": [
       "<shapely.geometry.polygon.LinearRing at 0x104b110b8>"
      ]
     },
     "execution_count": 14,
     "metadata": {},
     "output_type": "execute_result"
    }
   ],
   "source": [
    "# A LinearRing is a CLOSED one-dimensional feature comprising one or more line segments\n",
    "lr = LinearRing([[0, 0], [1, 1], [1, 2], [2, 2], [2, 0], [0, 0]])\n",
    "lr"
   ]
  },
  {
   "cell_type": "code",
   "execution_count": 15,
   "metadata": {
    "collapsed": false
   },
   "outputs": [],
   "source": [
    "# Is this linear ring closed?\n"
   ]
  },
  {
   "cell_type": "code",
   "execution_count": 16,
   "metadata": {
    "collapsed": false
   },
   "outputs": [
    {
     "data": {
      "image/svg+xml": [
       "<svg xmlns=\"http://www.w3.org/2000/svg\" xmlns:xlink=\"http://www.w3.org/1999/xlink\" width=\"100.0\" height=\"100.0\" viewBox=\"-0.08 -0.08 2.16 2.16\" preserveAspectRatio=\"xMinYMin meet\"><g transform=\"matrix(1,0,0,-1,0,2.0)\"><g><polyline fill=\"none\" stroke=\"#66cc99\" stroke-width=\"0.0432\" points=\"0.0,0.0 1.0,1.0 1.0,2.0 2.0,2.0\" opacity=\"0.8\" /><polyline fill=\"none\" stroke=\"#66cc99\" stroke-width=\"0.0432\" points=\"1.0,0.0 2.0,0.0\" opacity=\"0.8\" /></g></g></svg>"
      ],
      "text/plain": [
       "<shapely.geometry.multilinestring.MultiLineString at 0x104b11048>"
      ]
     },
     "execution_count": 16,
     "metadata": {},
     "output_type": "execute_result"
    }
   ],
   "source": [
    "# A MultiLineString is a collection of LineString objects\n",
    "mls = MultiLineString([ls, LineString([[1, 0], [2, 0]])])\n",
    "mls"
   ]
  },
  {
   "cell_type": "markdown",
   "metadata": {},
   "source": [
    "### Surfaces"
   ]
  },
  {
   "cell_type": "code",
   "execution_count": 17,
   "metadata": {
    "collapsed": false
   },
   "outputs": [
    {
     "data": {
      "image/svg+xml": [
       "<svg xmlns=\"http://www.w3.org/2000/svg\" xmlns:xlink=\"http://www.w3.org/1999/xlink\" width=\"100.0\" height=\"100.0\" viewBox=\"-0.08 -0.08 2.16 2.16\" preserveAspectRatio=\"xMinYMin meet\"><g transform=\"matrix(1,0,0,-1,0,2.0)\"><path fill-rule=\"evenodd\" fill=\"#66cc99\" stroke=\"#555555\" stroke-width=\"0.0432\" opacity=\"0.6\" d=\"M 0.0,0.0 L 1.0,1.0 L 1.0,2.0 L 2.0,2.0 L 2.0,0.0 L 0.0,0.0 z\" /></g></svg>"
      ],
      "text/plain": [
       "<shapely.geometry.polygon.Polygon at 0x10497beb8>"
      ]
     },
     "execution_count": 17,
     "metadata": {},
     "output_type": "execute_result"
    }
   ],
   "source": [
    "# A polygon is a two-dimensional feature bounded by a linear ring\n",
    "# It has non-zero area and length. It can be initialized from a sequence of coordinates or from a linear ring\n",
    "pl = Polygon(lr)\n",
    "pl"
   ]
  },
  {
   "cell_type": "code",
   "execution_count": 18,
   "metadata": {
    "collapsed": false
   },
   "outputs": [],
   "source": [
    "# Check area, length and boundary of this polygon\n"
   ]
  },
  {
   "cell_type": "code",
   "execution_count": 19,
   "metadata": {
    "collapsed": false
   },
   "outputs": [],
   "source": [
    "# The  centroid or geometric center of a two-dimensional region is the arithmetic mean \n",
    "# (\"average\") position of all the points in the shape\n",
    "# Where is the centroid of this polygon?\n"
   ]
  },
  {
   "cell_type": "code",
   "execution_count": 20,
   "metadata": {
    "collapsed": false
   },
   "outputs": [
    {
     "data": {
      "image/svg+xml": [
       "<svg xmlns=\"http://www.w3.org/2000/svg\" xmlns:xlink=\"http://www.w3.org/1999/xlink\" width=\"100.0\" height=\"100.0\" viewBox=\"-0.08 -0.08 2.16 2.16\" preserveAspectRatio=\"xMinYMin meet\"><g transform=\"matrix(1,0,0,-1,0,2.0)\"><g><path fill-rule=\"evenodd\" fill=\"#66cc99\" stroke=\"#555555\" stroke-width=\"0.0432\" opacity=\"0.6\" d=\"M 0.0,0.0 L 1.0,1.0 L 1.0,2.0 L 2.0,2.0 L 2.0,0.0 L 0.0,0.0 z\" /><circle cx=\"1.3333333333333335\" cy=\"0.8666666666666666\" r=\"0.0648\" stroke=\"#555555\" stroke-width=\"0.0216\" fill=\"#66cc99\" opacity=\"0.6\" /></g></g></svg>"
      ],
      "text/plain": [
       "<shapely.geometry.collection.GeometryCollection at 0x104b110f0>"
      ]
     },
     "execution_count": 20,
     "metadata": {},
     "output_type": "execute_result"
    }
   ],
   "source": [
    "GeometryCollection([pl, pl.centroid])"
   ]
  },
  {
   "cell_type": "code",
   "execution_count": 21,
   "metadata": {
    "collapsed": false
   },
   "outputs": [
    {
     "data": {
      "image/svg+xml": [
       "<svg xmlns=\"http://www.w3.org/2000/svg\" xmlns:xlink=\"http://www.w3.org/1999/xlink\" width=\"100.0\" height=\"100.0\" viewBox=\"-0.14 -0.14 3.7800000000000002 2.2800000000000002\" preserveAspectRatio=\"xMinYMin meet\"><g transform=\"matrix(1,0,0,-1,0,2.0)\"><g><path fill-rule=\"evenodd\" fill=\"#66cc99\" stroke=\"#555555\" stroke-width=\"0.0756\" opacity=\"0.6\" d=\"M 0.0,0.0 L 1.0,1.0 L 1.0,2.0 L 2.0,2.0 L 2.0,0.0 L 0.0,0.0 z\" /><path fill-rule=\"evenodd\" fill=\"#66cc99\" stroke=\"#555555\" stroke-width=\"0.0756\" opacity=\"0.6\" d=\"M 3.0,0.5 L 3.5,0.5 L 3.5,1.0 L 3.0,1.0 L 3.0,0.5 z\" /></g></g></svg>"
      ],
      "text/plain": [
       "<shapely.geometry.multipolygon.MultiPolygon at 0x104b11668>"
      ]
     },
     "execution_count": 21,
     "metadata": {},
     "output_type": "execute_result"
    }
   ],
   "source": [
    "# A Multipolygon is a collection of Polygons\n",
    "mpl = MultiPolygon([pl, Polygon([[3, 0.5], [3.5, 0.5], [3.5, 1], [3, 1]])])\n",
    "mpl"
   ]
  },
  {
   "cell_type": "code",
   "execution_count": 22,
   "metadata": {
    "collapsed": false
   },
   "outputs": [],
   "source": [
    "# Visualize and understand the difference between convex hull and envelope for this multipolygon"
   ]
  },
  {
   "cell_type": "code",
   "execution_count": 23,
   "metadata": {
    "collapsed": false
   },
   "outputs": [],
   "source": [
    "# What's the well-known text representation of a MultiPolygon?\n"
   ]
  },
  {
   "cell_type": "code",
   "execution_count": 24,
   "metadata": {
    "collapsed": false
   },
   "outputs": [],
   "source": [
    "# The Multipolygon is iterable on each of the polygons it contains\n",
    "# Check that\n"
   ]
  },
  {
   "cell_type": "code",
   "execution_count": 25,
   "metadata": {
    "collapsed": false
   },
   "outputs": [],
   "source": [
    "# The area of a MultiPolygon is the sum of areas of its constituents\n",
    "# Verify that\n"
   ]
  },
  {
   "cell_type": "code",
   "execution_count": 26,
   "metadata": {
    "collapsed": false
   },
   "outputs": [
    {
     "data": {
      "image/svg+xml": [
       "<svg xmlns=\"http://www.w3.org/2000/svg\" xmlns:xlink=\"http://www.w3.org/1999/xlink\" width=\"100.0\" height=\"100.0\" viewBox=\"-0.14 -0.14 3.7800000000000002 2.2800000000000002\" preserveAspectRatio=\"xMinYMin meet\"><g transform=\"matrix(1,0,0,-1,0,2.0)\"><g><g><circle cx=\"0.0\" cy=\"0.0\" r=\"0.1134\" stroke=\"#555555\" stroke-width=\"0.0378\" fill=\"#66cc99\" opacity=\"0.6\" /><circle cx=\"1.0\" cy=\"0.0\" r=\"0.1134\" stroke=\"#555555\" stroke-width=\"0.0378\" fill=\"#66cc99\" opacity=\"0.6\" /><circle cx=\"1.0\" cy=\"1.0\" r=\"0.1134\" stroke=\"#555555\" stroke-width=\"0.0378\" fill=\"#66cc99\" opacity=\"0.6\" /></g><polyline fill=\"none\" stroke=\"#66cc99\" stroke-width=\"0.0756\" points=\"0.0,0.0 1.0,1.0 1.0,2.0 2.0,2.0\" opacity=\"0.8\" /><polyline fill=\"none\" stroke=\"#66cc99\" stroke-width=\"0.0756\" points=\"0.0,0.0 1.0,1.0 1.0,2.0 2.0,2.0 2.0,0.0 0.0,0.0\" opacity=\"0.8\" /><g><path fill-rule=\"evenodd\" fill=\"#66cc99\" stroke=\"#555555\" stroke-width=\"0.0756\" opacity=\"0.6\" d=\"M 0.0,0.0 L 1.0,1.0 L 1.0,2.0 L 2.0,2.0 L 2.0,0.0 L 0.0,0.0 z\" /><path fill-rule=\"evenodd\" fill=\"#66cc99\" stroke=\"#555555\" stroke-width=\"0.0756\" opacity=\"0.6\" d=\"M 3.0,0.5 L 3.5,0.5 L 3.5,1.0 L 3.0,1.0 L 3.0,0.5 z\" /></g></g></g></svg>"
      ],
      "text/plain": [
       "<shapely.geometry.collection.GeometryCollection at 0x104b114e0>"
      ]
     },
     "execution_count": 26,
     "metadata": {},
     "output_type": "execute_result"
    }
   ],
   "source": [
    "# A GeometryCollection is a heterogeneous collection of any geometry (including other collections)\n",
    "gc = GeometryCollection([mp, ls, lr, mpl])\n",
    "gc"
   ]
  },
  {
   "cell_type": "code",
   "execution_count": 27,
   "metadata": {
    "collapsed": false
   },
   "outputs": [
    {
     "data": {
      "text/plain": [
       "[<shapely.geometry.multipoint.MultiPoint at 0x104b11550>,\n",
       " <shapely.geometry.linestring.LineString at 0x104b117f0>,\n",
       " <shapely.geometry.polygon.LinearRing at 0x104b11438>,\n",
       " <shapely.geometry.multipolygon.MultiPolygon at 0x104b115c0>]"
      ]
     },
     "execution_count": 27,
     "metadata": {},
     "output_type": "execute_result"
    }
   ],
   "source": [
    "[g for g in gc]"
   ]
  },
  {
   "cell_type": "markdown",
   "metadata": {},
   "source": [
    "## Relations between geometric objects"
   ]
  },
  {
   "cell_type": "markdown",
   "metadata": {},
   "source": [
    "The most interesting questions about geodata are usually answered employing methods that allow to compare relationships between geometries"
   ]
  },
  {
   "cell_type": "markdown",
   "metadata": {},
   "source": [
    "### Intersects"
   ]
  },
  {
   "cell_type": "code",
   "execution_count": 28,
   "metadata": {
    "collapsed": false
   },
   "outputs": [
    {
     "data": {
      "image/svg+xml": [
       "<svg xmlns=\"http://www.w3.org/2000/svg\" xmlns:xlink=\"http://www.w3.org/1999/xlink\" width=\"100.0\" height=\"100.0\" viewBox=\"-1.12 -0.12 3.24 2.24\" preserveAspectRatio=\"xMinYMin meet\"><g transform=\"matrix(1,0,0,-1,0,2.0)\"><g><circle cx=\"0.5\" cy=\"0.5\" r=\"0.09720000000000001\" stroke=\"#555555\" stroke-width=\"0.032400000000000005\" fill=\"#66cc99\" opacity=\"0.6\" /><circle cx=\"2.0\" cy=\"2.0\" r=\"0.09720000000000001\" stroke=\"#555555\" stroke-width=\"0.032400000000000005\" fill=\"#66cc99\" opacity=\"0.6\" /><polyline fill=\"none\" stroke=\"#66cc99\" stroke-width=\"0.06480000000000001\" points=\"0.0,0.0 0.5,0.0 0.5,0.5 1.0,0.5 1.0,1.0\" opacity=\"0.8\" /><path fill-rule=\"evenodd\" fill=\"#66cc99\" stroke=\"#555555\" stroke-width=\"0.06480000000000001\" opacity=\"0.6\" d=\"M 0.0,0.0 L 1.0,0.0 L 1.5,0.5 L 1.0,1.0 L 0.0,1.0 L -0.5,0.5 L 0.0,0.0 z\" /><path fill-rule=\"evenodd\" fill=\"#66cc99\" stroke=\"#555555\" stroke-width=\"0.06480000000000001\" opacity=\"0.6\" d=\"M 0.0,0.0 L 0.0,1.0 L -1.0,1.0 L -1.0,0.0 L 0.0,0.0 z\" /></g></g></svg>"
      ],
      "text/plain": [
       "<shapely.geometry.collection.GeometryCollection at 0x104b1b908>"
      ]
     },
     "execution_count": 28,
     "metadata": {},
     "output_type": "execute_result"
    }
   ],
   "source": [
    "# Create some random geometries\n",
    "p = Point([0.5, 0.5])\n",
    "p2 = Point([2, 2])\n",
    "ls = LineString([[0, 0], [0.5, 0], [0.5, 0.5], [1, 0.5], [1, 1]])\n",
    "pl = Polygon([[0, 0], [1, 0], [1.5, 0.5], [1, 1], [0, 1], [-0.5, 0.5], [0, 0]])\n",
    "pl2 = Polygon([[0, 0], [0, 1], [-1, 1], [-1, 0]])\n",
    "gc = GeometryCollection([p, p2, ls, pl, pl2])\n",
    "gc"
   ]
  },
  {
   "cell_type": "code",
   "execution_count": 29,
   "metadata": {
    "collapsed": false
   },
   "outputs": [
    {
     "data": {
      "image/svg+xml": [
       "<svg xmlns=\"http://www.w3.org/2000/svg\" xmlns:xlink=\"http://www.w3.org/1999/xlink\" width=\"100.0\" height=\"100.0\" viewBox=\"-0.58 -0.08 2.16 1.1600000000000001\" preserveAspectRatio=\"xMinYMin meet\"><g transform=\"matrix(1,0,0,-1,0,1.0)\"><g><path fill-rule=\"evenodd\" fill=\"#66cc99\" stroke=\"#555555\" stroke-width=\"0.0432\" opacity=\"0.6\" d=\"M 0.0,0.0 L 1.0,0.0 L 1.5,0.5 L 1.0,1.0 L 0.0,1.0 L -0.5,0.5 L 0.0,0.0 z\" /><circle cx=\"0.5\" cy=\"0.5\" r=\"0.0648\" stroke=\"#555555\" stroke-width=\"0.0216\" fill=\"#66cc99\" opacity=\"0.6\" /></g></g></svg>"
      ],
      "text/plain": [
       "<shapely.geometry.collection.GeometryCollection at 0x104b117b8>"
      ]
     },
     "execution_count": 29,
     "metadata": {},
     "output_type": "execute_result"
    }
   ],
   "source": [
    "GeometryCollection([pl, p])"
   ]
  },
  {
   "cell_type": "code",
   "execution_count": 30,
   "metadata": {
    "collapsed": false
   },
   "outputs": [],
   "source": [
    "# Intersects returns true if the two shapes have any space in common\n",
    "# (if their boundaries or interiors intersect)\n",
    "# Check if the geometries above intersect (in pairs of two)\n"
   ]
  },
  {
   "cell_type": "code",
   "execution_count": 31,
   "metadata": {
    "collapsed": false
   },
   "outputs": [],
   "source": [
    "# Intersects is a symmetric function\n",
    "# Verify that\n"
   ]
  },
  {
   "cell_type": "code",
   "execution_count": 32,
   "metadata": {
    "collapsed": false
   },
   "outputs": [],
   "source": [
    "# Intersection returns the common space of the geometries\n",
    "# Compute the intersection of various pairs of geometries contained in the collection above\n"
   ]
  },
  {
   "cell_type": "markdown",
   "metadata": {},
   "source": [
    "### Contains"
   ]
  },
  {
   "cell_type": "code",
   "execution_count": 33,
   "metadata": {
    "collapsed": false
   },
   "outputs": [
    {
     "name": "stdout",
     "output_type": "stream",
     "text": [
      "True\n",
      "False\n",
      "False\n",
      "True\n",
      "False\n"
     ]
    }
   ],
   "source": [
    "# Contains returns true if the geometry contains the other fully, else False\n",
    "\n",
    "# Point contained in polygon -- True\n",
    "print(pl.contains(p))\n",
    "\n",
    "# Point outside polygon -- False\n",
    "print(pl.contains(p2))\n",
    "\n",
    "# Polygons partially overlapping -- False\n",
    "print(pl.contains(pl2))\n",
    "\n",
    "# Linestring contained in polygon touching its boundary -- True\n",
    "print(pl.contains(ls))\n",
    "\n",
    "# Contains is not symmetric\n",
    "print(p.contains(pl))\n"
   ]
  },
  {
   "cell_type": "markdown",
   "metadata": {},
   "source": [
    "### Overlaps"
   ]
  },
  {
   "cell_type": "code",
   "execution_count": 34,
   "metadata": {
    "collapsed": false
   },
   "outputs": [
    {
     "data": {
      "image/svg+xml": [
       "<svg xmlns=\"http://www.w3.org/2000/svg\" xmlns:xlink=\"http://www.w3.org/1999/xlink\" width=\"100.0\" height=\"100.0\" viewBox=\"-1.1 -0.1 2.7 1.2000000000000002\" preserveAspectRatio=\"xMinYMin meet\"><g transform=\"matrix(1,0,0,-1,0,1.0)\"><g><path fill-rule=\"evenodd\" fill=\"#66cc99\" stroke=\"#555555\" stroke-width=\"0.054000000000000006\" opacity=\"0.6\" d=\"M 0.0,0.0 L 1.0,0.0 L 1.5,0.5 L 1.0,1.0 L 0.0,1.0 L -0.5,0.5 L 0.0,0.0 z\" /><path fill-rule=\"evenodd\" fill=\"#66cc99\" stroke=\"#555555\" stroke-width=\"0.054000000000000006\" opacity=\"0.6\" d=\"M 0.0,0.0 L 0.0,1.0 L -1.0,1.0 L -1.0,0.0 L 0.0,0.0 z\" /></g></g></svg>"
      ],
      "text/plain": [
       "<shapely.geometry.collection.GeometryCollection at 0x104b116d8>"
      ]
     },
     "execution_count": 34,
     "metadata": {},
     "output_type": "execute_result"
    }
   ],
   "source": [
    "GeometryCollection([pl, pl2])"
   ]
  },
  {
   "cell_type": "code",
   "execution_count": 35,
   "metadata": {
    "collapsed": false
   },
   "outputs": [
    {
     "data": {
      "text/plain": [
       "True"
      ]
     },
     "execution_count": 35,
     "metadata": {},
     "output_type": "execute_result"
    }
   ],
   "source": [
    "# Overlaps returns true if the geometries share space, are of the same dimension, \n",
    "# but are not completely contained by each other.\n",
    "pl.overlaps(pl2)"
   ]
  },
  {
   "cell_type": "code",
   "execution_count": 36,
   "metadata": {
    "collapsed": false
   },
   "outputs": [
    {
     "data": {
      "text/plain": [
       "False"
      ]
     },
     "execution_count": 36,
     "metadata": {},
     "output_type": "execute_result"
    }
   ],
   "source": [
    "# Comparing geometries of different dimension returns false\n",
    "ls.overlaps(pl)"
   ]
  },
  {
   "cell_type": "code",
   "execution_count": 37,
   "metadata": {
    "collapsed": false
   },
   "outputs": [
    {
     "data": {
      "text/plain": [
       "False"
      ]
     },
     "execution_count": 37,
     "metadata": {},
     "output_type": "execute_result"
    }
   ],
   "source": [
    "p.overlaps(pl)"
   ]
  },
  {
   "cell_type": "markdown",
   "metadata": {},
   "source": [
    "### Further functions: Crosses, Disjoint, Equals, Touches"
   ]
  },
  {
   "cell_type": "code",
   "execution_count": 38,
   "metadata": {
    "collapsed": true
   },
   "outputs": [],
   "source": [
    "# Try yourself\n"
   ]
  },
  {
   "cell_type": "markdown",
   "metadata": {},
   "source": [
    "### Buffer"
   ]
  },
  {
   "cell_type": "code",
   "execution_count": 39,
   "metadata": {
    "collapsed": false
   },
   "outputs": [],
   "source": [
    "# Buffer returns a geometry with an envelope at a distance from the object's envelope\n",
    "# Compute a buffer around our first point and first linestring above\n"
   ]
  },
  {
   "cell_type": "code",
   "execution_count": 40,
   "metadata": {
    "collapsed": false
   },
   "outputs": [],
   "source": [
    "# Visualize the point and its buffer; the linestring and its buffer\n"
   ]
  },
  {
   "cell_type": "code",
   "execution_count": 41,
   "metadata": {
    "collapsed": false
   },
   "outputs": [],
   "source": [
    "# Create a buffer around our polygon, visualize it\n"
   ]
  },
  {
   "cell_type": "code",
   "execution_count": 42,
   "metadata": {
    "collapsed": false
   },
   "outputs": [],
   "source": [
    "# Create a buffer with negative distance. What happens to the geometry?\n"
   ]
  },
  {
   "cell_type": "code",
   "execution_count": 43,
   "metadata": {
    "collapsed": false
   },
   "outputs": [],
   "source": [
    "# What happens if we create a negative buffer on a geometry with zero area?\n"
   ]
  },
  {
   "cell_type": "code",
   "execution_count": 44,
   "metadata": {
    "collapsed": false
   },
   "outputs": [],
   "source": [
    "# What happens if we create a buffer of zero size?\n"
   ]
  },
  {
   "cell_type": "markdown",
   "metadata": {
    "collapsed": true
   },
   "source": [
    "### Distance"
   ]
  },
  {
   "cell_type": "code",
   "execution_count": 45,
   "metadata": {
    "collapsed": false
   },
   "outputs": [
    {
     "name": "stdout",
     "output_type": "stream",
     "text": [
      "[(0.5, 0.5)]\n",
      "[(2.0, 2.0)]\n"
     ]
    },
    {
     "data": {
      "image/svg+xml": [
       "<svg xmlns=\"http://www.w3.org/2000/svg\" xmlns:xlink=\"http://www.w3.org/1999/xlink\" width=\"100.0\" height=\"100.0\" viewBox=\"0.44 0.44 1.62 1.62\" preserveAspectRatio=\"xMinYMin meet\"><g transform=\"matrix(1,0,0,-1,0,2.5)\"><g><circle cx=\"0.5\" cy=\"0.5\" r=\"0.048600000000000004\" stroke=\"#555555\" stroke-width=\"0.016200000000000003\" fill=\"#66cc99\" opacity=\"0.6\" /><circle cx=\"2.0\" cy=\"2.0\" r=\"0.048600000000000004\" stroke=\"#555555\" stroke-width=\"0.016200000000000003\" fill=\"#66cc99\" opacity=\"0.6\" /></g></g></svg>"
      ],
      "text/plain": [
       "<shapely.geometry.collection.GeometryCollection at 0x104b11fd0>"
      ]
     },
     "execution_count": 45,
     "metadata": {},
     "output_type": "execute_result"
    }
   ],
   "source": [
    "print(list(p.coords))\n",
    "print(list(p2.coords))\n",
    "GeometryCollection([p, p2])"
   ]
  },
  {
   "cell_type": "code",
   "execution_count": 46,
   "metadata": {
    "collapsed": false
   },
   "outputs": [],
   "source": [
    "# Distance computes the Euclidean (straight line) distance between geometries\n",
    "# Compute the distance between p and p2\n"
   ]
  },
  {
   "cell_type": "markdown",
   "metadata": {},
   "source": [
    "Distance implements formula $ \\sqrt{\\sum_{i=1}^n (q_i-p_i)^2} $ between points p and q."
   ]
  },
  {
   "cell_type": "code",
   "execution_count": 47,
   "metadata": {
    "collapsed": false
   },
   "outputs": [],
   "source": [
    "# Check that the distance function indeed implements the function above\n"
   ]
  },
  {
   "cell_type": "code",
   "execution_count": 48,
   "metadata": {
    "collapsed": false
   },
   "outputs": [],
   "source": [
    "# Distance is a symmetric function. Check that\n"
   ]
  },
  {
   "cell_type": "code",
   "execution_count": 49,
   "metadata": {
    "collapsed": false
   },
   "outputs": [],
   "source": [
    "# Distance between Point and LineString equals the perpendicular distance\n",
    "# i.e. distance between point and the point corresponding to its orthogonal projection on the LineString\n",
    "# Compute and understand distances between p and ls, p2 and ls\n"
   ]
  },
  {
   "cell_type": "code",
   "execution_count": 50,
   "metadata": {
    "collapsed": false
   },
   "outputs": [],
   "source": [
    "# Compute and understand distances between polygons\n"
   ]
  },
  {
   "cell_type": "markdown",
   "metadata": {
    "collapsed": true
   },
   "source": [
    "#### GeoJSON###"
   ]
  },
  {
   "cell_type": "markdown",
   "metadata": {},
   "source": [
    "GeoJSON is an open standard format for encoding collections of simple geographical features along with their non-spatial attributes using JavaScript Object Notation. [Wikipedia GeoJSON](https://en.wikipedia.org/wiki/GeoJSON)"
   ]
  },
  {
   "cell_type": "code",
   "execution_count": 51,
   "metadata": {
    "collapsed": false
   },
   "outputs": [
    {
     "data": {
      "image/svg+xml": [
       "<svg xmlns=\"http://www.w3.org/2000/svg\" xmlns:xlink=\"http://www.w3.org/1999/xlink\" width=\"100.0\" height=\"100.0\" viewBox=\"-1.18 -0.18 4.86 2.3600000000000003\" preserveAspectRatio=\"xMinYMin meet\"><g transform=\"matrix(1,0,0,-1,0,2.0)\"><g><path fill-rule=\"evenodd\" fill=\"#66cc99\" stroke=\"#555555\" stroke-width=\"0.09720000000000001\" opacity=\"0.6\" d=\"M 0.0,0.0 L 1.0,0.0 L 1.5,0.5 L 1.0,1.0 L 0.0,1.0 L -0.5,0.5 L 0.0,0.0 z\" /><path fill-rule=\"evenodd\" fill=\"#66cc99\" stroke=\"#555555\" stroke-width=\"0.09720000000000001\" opacity=\"0.6\" d=\"M 0.0,0.0 L 0.0,1.0 L -1.0,1.0 L -1.0,0.0 L 0.0,0.0 z\" /><path fill-rule=\"evenodd\" fill=\"#66cc99\" stroke=\"#555555\" stroke-width=\"0.09720000000000001\" opacity=\"0.6\" d=\"M 0.0,0.0 L 1.0,1.0 L 1.0,2.0 L 2.0,2.0 L 2.0,0.0 L 0.0,0.0 z\" /><path fill-rule=\"evenodd\" fill=\"#66cc99\" stroke=\"#555555\" stroke-width=\"0.09720000000000001\" opacity=\"0.6\" d=\"M 3.0,0.5 L 3.5,0.5 L 3.5,1.0 L 3.0,1.0 L 3.0,0.5 z\" /></g></g></svg>"
      ],
      "text/plain": [
       "<shapely.geometry.collection.GeometryCollection at 0x104b1b0b8>"
      ]
     },
     "execution_count": 51,
     "metadata": {},
     "output_type": "execute_result"
    }
   ],
   "source": [
    "polygons = GeometryCollection([pl, pl2, mpl[0], mpl[1]])\n",
    "polygons"
   ]
  },
  {
   "cell_type": "code",
   "execution_count": 53,
   "metadata": {
    "collapsed": false
   },
   "outputs": [],
   "source": [
    "from geopandas import GeoDataFrame\n",
    "import json"
   ]
  },
  {
   "cell_type": "code",
   "execution_count": 54,
   "metadata": {
    "collapsed": false
   },
   "outputs": [
    {
     "data": {
      "text/html": [
       "<div>\n",
       "<table border=\"1\" class=\"dataframe\">\n",
       "  <thead>\n",
       "    <tr style=\"text-align: right;\">\n",
       "      <th></th>\n",
       "      <th>geometry</th>\n",
       "      <th>area</th>\n",
       "      <th>perimeter</th>\n",
       "    </tr>\n",
       "  </thead>\n",
       "  <tbody>\n",
       "    <tr>\n",
       "      <th>0</th>\n",
       "      <td>POLYGON ((0 0, 1 0, 1.5 0.5, 1 1, 0 1, -0.5 0....</td>\n",
       "      <td>1.50</td>\n",
       "      <td>4.828427</td>\n",
       "    </tr>\n",
       "    <tr>\n",
       "      <th>1</th>\n",
       "      <td>POLYGON ((0 0, 0 1, -1 1, -1 0, 0 0))</td>\n",
       "      <td>1.00</td>\n",
       "      <td>4.000000</td>\n",
       "    </tr>\n",
       "    <tr>\n",
       "      <th>2</th>\n",
       "      <td>POLYGON ((0 0, 1 1, 1 2, 2 2, 2 0, 0 0))</td>\n",
       "      <td>2.50</td>\n",
       "      <td>7.414214</td>\n",
       "    </tr>\n",
       "    <tr>\n",
       "      <th>3</th>\n",
       "      <td>POLYGON ((3 0.5, 3.5 0.5, 3.5 1, 3 1, 3 0.5))</td>\n",
       "      <td>0.25</td>\n",
       "      <td>2.000000</td>\n",
       "    </tr>\n",
       "  </tbody>\n",
       "</table>\n",
       "</div>"
      ],
      "text/plain": [
       "                                            geometry  area  perimeter\n",
       "0  POLYGON ((0 0, 1 0, 1.5 0.5, 1 1, 0 1, -0.5 0....  1.50   4.828427\n",
       "1              POLYGON ((0 0, 0 1, -1 1, -1 0, 0 0))  1.00   4.000000\n",
       "2           POLYGON ((0 0, 1 1, 1 2, 2 2, 2 0, 0 0))  2.50   7.414214\n",
       "3      POLYGON ((3 0.5, 3.5 0.5, 3.5 1, 3 1, 3 0.5))  0.25   2.000000"
      ]
     },
     "execution_count": 54,
     "metadata": {},
     "output_type": "execute_result"
    }
   ],
   "source": [
    "gdf = GeoDataFrame([pl, pl2, mpl[0], mpl[1]], columns=['geometry'])\n",
    "gdf['area'] = gdf.apply(lambda g: g['geometry'].area, axis=1)\n",
    "gdf['perimeter'] = gdf.apply(lambda g: g['geometry'].length, axis=1)\n",
    "gdf"
   ]
  },
  {
   "cell_type": "code",
   "execution_count": 55,
   "metadata": {
    "collapsed": false
   },
   "outputs": [
    {
     "data": {
      "text/plain": [
       "'{\"features\": [{\"geometry\": {\"type\": \"Polygon\", \"coordinates\": [[[0.0, 0.0], [1.0, 0.0], [1.5, 0.5], [1.0, 1.0], [0.0, 1.0], [-0.5, 0.5], [0.0, 0.0]]]}, \"id\": \"0\", \"type\": \"Feature\", \"properties\": {\"perimeter\": 4.828427124746191, \"area\": 1.5}}, {\"geometry\": {\"type\": \"Polygon\", \"coordinates\": [[[0.0, 0.0], [0.0, 1.0], [-1.0, 1.0], [-1.0, 0.0], [0.0, 0.0]]]}, \"id\": \"1\", \"type\": \"Feature\", \"properties\": {\"perimeter\": 4.0, \"area\": 1.0}}, {\"geometry\": {\"type\": \"Polygon\", \"coordinates\": [[[0.0, 0.0], [1.0, 1.0], [1.0, 2.0], [2.0, 2.0], [2.0, 0.0], [0.0, 0.0]]]}, \"id\": \"2\", \"type\": \"Feature\", \"properties\": {\"perimeter\": 7.414213562373095, \"area\": 2.5}}, {\"geometry\": {\"type\": \"Polygon\", \"coordinates\": [[[3.0, 0.5], [3.5, 0.5], [3.5, 1.0], [3.0, 1.0], [3.0, 0.5]]]}, \"id\": \"3\", \"type\": \"Feature\", \"properties\": {\"perimeter\": 2.0, \"area\": 0.25}}], \"type\": \"FeatureCollection\"}'"
      ]
     },
     "execution_count": 55,
     "metadata": {},
     "output_type": "execute_result"
    }
   ],
   "source": [
    "# GeoDataFrame.to_json() generates a GeoJSON \n",
    "# A column named 'geometry' is mandatory, additional columns are set as properties\n",
    "geo_json = gdf.to_json()\n",
    "geo_json"
   ]
  },
  {
   "cell_type": "code",
   "execution_count": 56,
   "metadata": {
    "collapsed": false
   },
   "outputs": [
    {
     "data": {
      "text/plain": [
       "{'features': [{'geometry': {'coordinates': [[[0.0, 0.0],\n",
       "      [1.0, 0.0],\n",
       "      [1.5, 0.5],\n",
       "      [1.0, 1.0],\n",
       "      [0.0, 1.0],\n",
       "      [-0.5, 0.5],\n",
       "      [0.0, 0.0]]],\n",
       "    'type': 'Polygon'},\n",
       "   'id': '0',\n",
       "   'properties': {'area': 1.5, 'perimeter': 4.828427124746191},\n",
       "   'type': 'Feature'},\n",
       "  {'geometry': {'coordinates': [[[0.0, 0.0],\n",
       "      [0.0, 1.0],\n",
       "      [-1.0, 1.0],\n",
       "      [-1.0, 0.0],\n",
       "      [0.0, 0.0]]],\n",
       "    'type': 'Polygon'},\n",
       "   'id': '1',\n",
       "   'properties': {'area': 1.0, 'perimeter': 4.0},\n",
       "   'type': 'Feature'},\n",
       "  {'geometry': {'coordinates': [[[0.0, 0.0],\n",
       "      [1.0, 1.0],\n",
       "      [1.0, 2.0],\n",
       "      [2.0, 2.0],\n",
       "      [2.0, 0.0],\n",
       "      [0.0, 0.0]]],\n",
       "    'type': 'Polygon'},\n",
       "   'id': '2',\n",
       "   'properties': {'area': 2.5, 'perimeter': 7.414213562373095},\n",
       "   'type': 'Feature'},\n",
       "  {'geometry': {'coordinates': [[[3.0, 0.5],\n",
       "      [3.5, 0.5],\n",
       "      [3.5, 1.0],\n",
       "      [3.0, 1.0],\n",
       "      [3.0, 0.5]]],\n",
       "    'type': 'Polygon'},\n",
       "   'id': '3',\n",
       "   'properties': {'area': 0.25, 'perimeter': 2.0},\n",
       "   'type': 'Feature'}],\n",
       " 'type': 'FeatureCollection'}"
      ]
     },
     "execution_count": 56,
     "metadata": {},
     "output_type": "execute_result"
    }
   ],
   "source": [
    "json.loads(geo_json)"
   ]
  },
  {
   "cell_type": "markdown",
   "metadata": {
    "collapsed": true
   },
   "source": [
    "### Further exercises\n",
    "\n",
    "1. Define the square centered at the origin of coordinates and with side of length 1 (sq1)\n",
    "2. Define the square centered at the origin of coordinates and with side of length 2 (sq2)\n",
    "3. Compute the area of \"sq2 complement sq1\" (sq2 minus sq1)\n",
    "4. Define the line between the following two points: p1 = (-95.98, 45.03); p2 = (-113.73, 40.11)\n",
    "5. A buffer which has distance 5 around the following location: p = (-100.46/39.16)\n",
    "6. Calculate the intersection between the line and buffer. Display the buffer information as well-known text."
   ]
  },
  {
   "cell_type": "code",
   "execution_count": null,
   "metadata": {
    "collapsed": true
   },
   "outputs": [],
   "source": []
  }
 ],
 "metadata": {
  "kernelspec": {
   "display_name": "IPython (Python 3)",
   "language": "python",
   "name": "python3"
  },
  "language_info": {
   "codemirror_mode": {
    "name": "ipython",
    "version": 3
   },
   "file_extension": ".py",
   "mimetype": "text/x-python",
   "name": "python",
   "nbconvert_exporter": "python",
   "pygments_lexer": "ipython3",
   "version": "3.4.1"
  }
 },
 "nbformat": 4,
 "nbformat_minor": 0
}
